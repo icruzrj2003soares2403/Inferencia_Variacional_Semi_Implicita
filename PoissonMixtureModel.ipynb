{
 "cells": [
  {
   "cell_type": "code",
   "execution_count": 18,
   "id": "4c7a4d6a",
   "metadata": {},
   "outputs": [],
   "source": [
    "import sys"
   ]
  },
  {
   "cell_type": "code",
   "execution_count": 19,
   "id": "5208c0f2",
   "metadata": {},
   "outputs": [],
   "source": [
    "sys.dont_write_bytecode = True"
   ]
  },
  {
   "cell_type": "code",
   "execution_count": 20,
   "id": "dc1bbc30",
   "metadata": {},
   "outputs": [],
   "source": [
    "import numpy as np\n",
    "import pandas as pd\n",
    "\n",
    "import matplotlib.pyplot as plt\n",
    "import seaborn as sns\n",
    "\n",
    "from sklearn.utils import shuffle\n",
    "\n",
    "from PoissonMixtureModel import PoissonMixtureModel"
   ]
  },
  {
   "cell_type": "code",
   "execution_count": 21,
   "id": "6c7c3400",
   "metadata": {},
   "outputs": [],
   "source": [
    "np.random.seed(0)"
   ]
  },
  {
   "cell_type": "code",
   "execution_count": 22,
   "id": "a72b5956",
   "metadata": {},
   "outputs": [
    {
     "name": "stdout",
     "output_type": "stream",
     "text": [
      "Número de Observações: 100000\n"
     ]
    }
   ],
   "source": [
    "N = 100000\n",
    "\n",
    "print(f'Número de Observações: {N}')"
   ]
  },
  {
   "cell_type": "code",
   "execution_count": 23,
   "id": "013e37cb",
   "metadata": {},
   "outputs": [
    {
     "name": "stdout",
     "output_type": "stream",
     "text": [
      "Número de Categorias Latentes: 3\n"
     ]
    }
   ],
   "source": [
    "M = 3\n",
    "\n",
    "print(f'Número de Categorias Latentes: {M}')"
   ]
  },
  {
   "cell_type": "code",
   "execution_count": 24,
   "id": "61989100",
   "metadata": {},
   "outputs": [
    {
     "name": "stdout",
     "output_type": "stream",
     "text": [
      "Distribuição das Categorias Latentes:\n",
      "\n",
      "[0.33333333 0.33333333 0.33333333]\n"
     ]
    }
   ],
   "source": [
    "PI = np.repeat(1/M, repeats = M)\n",
    "\n",
    "print(f'Distribuição das Categorias Latentes:\\n')\n",
    "\n",
    "print(PI)"
   ]
  },
  {
   "cell_type": "code",
   "execution_count": 25,
   "id": "d596f9cc",
   "metadata": {},
   "outputs": [
    {
     "name": "stdout",
     "output_type": "stream",
     "text": [
      "Número de Observações por Categoria Latente:\n",
      "\n",
      "[33501 33238 33261]\n"
     ]
    }
   ],
   "source": [
    "ALPHA = np.random.multinomial(n = 1, pvals = PI, size = N).sum(axis = 0)\n",
    "\n",
    "print(f'Número de Observações por Categoria Latente:\\n')\n",
    "\n",
    "print(ALPHA)"
   ]
  },
  {
   "cell_type": "code",
   "execution_count": 26,
   "id": "1a3b8ebe",
   "metadata": {},
   "outputs": [
    {
     "name": "stdout",
     "output_type": "stream",
     "text": [
      "Médias por Categoria Latente:\n",
      "\n",
      "[1, 10, 20]\n"
     ]
    }
   ],
   "source": [
    "MU = [1, 10, 20]\n",
    "\n",
    "print(f'Médias por Categoria Latente:\\n')\n",
    "\n",
    "print(MU)"
   ]
  },
  {
   "cell_type": "code",
   "execution_count": 27,
   "id": "cd84d2d7",
   "metadata": {},
   "outputs": [],
   "source": [
    "X, Z = [], []\n",
    "\n",
    "for m in range(M):\n",
    "\n",
    "    X.append(\n",
    "\n",
    "        np.random.poisson(\n",
    "\n",
    "            lam = MU[m],\n",
    "\n",
    "            size = ALPHA[m]\n",
    "\n",
    "        )\n",
    "\n",
    "    )\n",
    "\n",
    "    Z.append(\n",
    "\n",
    "        np.repeat(\n",
    "\n",
    "            m,\n",
    "\n",
    "            repeats = ALPHA[m]\n",
    "\n",
    "        )\n",
    "\n",
    "    )\n",
    "\n",
    "X, Z = np.hstack(X), np.hstack(Z)\n",
    "\n",
    "X, Z = shuffle(X, Z)"
   ]
  },
  {
   "cell_type": "code",
   "execution_count": 28,
   "id": "d7739f76",
   "metadata": {},
   "outputs": [
    {
     "name": "stdout",
     "output_type": "stream",
     "text": [
      "Observações:\n",
      "\n",
      "[10  2  3 ... 26 33  1]\n"
     ]
    }
   ],
   "source": [
    "print('Observações:\\n')\n",
    "\n",
    "print(X)"
   ]
  },
  {
   "cell_type": "code",
   "execution_count": 29,
   "id": "597b1dc6",
   "metadata": {},
   "outputs": [
    {
     "name": "stdout",
     "output_type": "stream",
     "text": [
      "Categorias Latentes:\n",
      "\n",
      "[1 0 0 ... 2 2 0]\n"
     ]
    }
   ],
   "source": [
    "print('Categorias Latentes:\\n')\n",
    "\n",
    "print(Z)"
   ]
  },
  {
   "cell_type": "code",
   "execution_count": 30,
   "id": "d2e7afce",
   "metadata": {},
   "outputs": [
    {
     "data": {
      "text/html": [
       "<div>\n",
       "<style scoped>\n",
       "    .dataframe tbody tr th:only-of-type {\n",
       "        vertical-align: middle;\n",
       "    }\n",
       "\n",
       "    .dataframe tbody tr th {\n",
       "        vertical-align: top;\n",
       "    }\n",
       "\n",
       "    .dataframe thead th {\n",
       "        text-align: right;\n",
       "    }\n",
       "</style>\n",
       "<table border=\"1\" class=\"dataframe\">\n",
       "  <thead>\n",
       "    <tr style=\"text-align: right;\">\n",
       "      <th></th>\n",
       "      <th>Observação</th>\n",
       "      <th>Categoria Latente</th>\n",
       "    </tr>\n",
       "  </thead>\n",
       "  <tbody>\n",
       "    <tr>\n",
       "      <th>0</th>\n",
       "      <td>10</td>\n",
       "      <td>1</td>\n",
       "    </tr>\n",
       "    <tr>\n",
       "      <th>1</th>\n",
       "      <td>2</td>\n",
       "      <td>0</td>\n",
       "    </tr>\n",
       "    <tr>\n",
       "      <th>2</th>\n",
       "      <td>3</td>\n",
       "      <td>0</td>\n",
       "    </tr>\n",
       "    <tr>\n",
       "      <th>3</th>\n",
       "      <td>16</td>\n",
       "      <td>1</td>\n",
       "    </tr>\n",
       "    <tr>\n",
       "      <th>4</th>\n",
       "      <td>0</td>\n",
       "      <td>0</td>\n",
       "    </tr>\n",
       "  </tbody>\n",
       "</table>\n",
       "</div>"
      ],
      "text/plain": [
       "   Observação  Categoria Latente\n",
       "0          10                  1\n",
       "1           2                  0\n",
       "2           3                  0\n",
       "3          16                  1\n",
       "4           0                  0"
      ]
     },
     "execution_count": 30,
     "metadata": {},
     "output_type": "execute_result"
    }
   ],
   "source": [
    "DATA = pd.DataFrame(data = {'Observação': X, 'Categoria Latente': Z})\n",
    "\n",
    "DATA.head()"
   ]
  },
  {
   "cell_type": "code",
   "execution_count": 31,
   "id": "bd9d9ee3",
   "metadata": {},
   "outputs": [
    {
     "data": {
      "image/png": "[encoded data removed]",
      "text/plain": [
       "<Figure size 1500x500 with 1 Axes>"
      ]
     },
     "metadata": {},
     "output_type": "display_data"
    }
   ],
   "source": [
    "plt.figure(figsize = (15, 5))\n",
    "\n",
    "GRAPHIC = sns.histplot(\n",
    "\n",
    "    data = DATA, x = 'Observação', \n",
    "    \n",
    "    hue = 'Categoria Latente', \n",
    "    \n",
    "    stat = 'density', bins = 15, \n",
    "    \n",
    "    palette = 'bright', alpha = 1\n",
    "\n",
    ")\n",
    "\n",
    "GRAPHIC.spines['right'].set_visible(False)\n",
    "\n",
    "GRAPHIC.spines['top'].set_visible(False)\n",
    "\n",
    "plt.ylabel('Densidade')\n",
    "\n",
    "sns.move_legend(\n",
    "\n",
    "    GRAPHIC, 'lower center',\n",
    "\n",
    "    bbox_to_anchor = (0.5, 1), ncol = 5\n",
    "    \n",
    ")\n",
    "\n",
    "plt.show()"
   ]
  },
  {
   "cell_type": "code",
   "execution_count": 32,
   "id": "c6af6275",
   "metadata": {},
   "outputs": [],
   "source": [
    "PMM = PoissonMixtureModel(X = X, M = M)\n",
    "\n",
    "PMM.update_model()"
   ]
  },
  {
   "cell_type": "code",
   "execution_count": 33,
   "id": "5499de7b",
   "metadata": {},
   "outputs": [
    {
     "name": "stdout",
     "output_type": "stream",
     "text": [
      "[[4.34203752e-02 7.83450070e-07 9.56578841e-01]\n",
      " [2.13477491e-06 9.87529058e-01 1.24688073e-02]\n",
      " [3.84113496e-05 8.88274830e-01 1.11686759e-01]\n",
      " ...\n",
      " [9.99686672e-01 2.74423670e-26 3.13328462e-04]\n",
      " [9.99997625e-01 2.14183789e-35 2.37476145e-06]\n",
      " [1.07929918e-07 9.98733567e-01 1.26632556e-03]]\n"
     ]
    }
   ],
   "source": [
    "print(PMM.gamma)"
   ]
  },
  {
   "cell_type": "code",
   "execution_count": 34,
   "id": "166f0a83",
   "metadata": {},
   "outputs": [
    {
     "name": "stdout",
     "output_type": "stream",
     "text": [
      "[20.0263686   1.00114815  9.9694646 ]\n"
     ]
    }
   ],
   "source": [
    "print(PMM.eta)"
   ]
  }
 ],
 "metadata": {
  "kernelspec": {
   "display_name": "VirtualEnvironment",
   "language": "python",
   "name": "python3"
  },
  "language_info": {
   "codemirror_mode": {
    "name": "ipython",
    "version": 3
   },
   "file_extension": ".py",
   "mimetype": "text/x-python",
   "name": "python",
   "nbconvert_exporter": "python",
   "pygments_lexer": "ipython3",
   "version": "3.13.6"
  }
 },
 "nbformat": 4,
 "nbformat_minor": 5
}
