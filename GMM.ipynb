{
 "cells": [
  {
   "cell_type": "code",
   "execution_count": 1,
   "metadata": {},
   "outputs": [],
   "source": [
    "import numpy as np\n",
    "import scipy.stats as stats\n",
    "import pandas as pd"
   ]
  },
  {
   "cell_type": "code",
   "execution_count": 2,
   "metadata": {},
   "outputs": [],
   "source": [
    "np.set_printoptions(precision = 4, threshold = 5, floatmode = 'fixed')"
   ]
  },
  {
   "cell_type": "code",
   "execution_count": 3,
   "metadata": {},
   "outputs": [],
   "source": [
    "np.random.seed(0)"
   ]
  },
  {
   "cell_type": "code",
   "execution_count": 4,
   "metadata": {},
   "outputs": [
    {
     "name": "stdout",
     "output_type": "stream",
     "text": [
      "Número de Observações: 100,000\n"
     ]
    }
   ],
   "source": [
    "N = int(1e5)\n",
    "\n",
    "print(f'Número de Observações: {N:,}')"
   ]
  },
  {
   "cell_type": "code",
   "execution_count": 5,
   "metadata": {},
   "outputs": [
    {
     "name": "stdout",
     "output_type": "stream",
     "text": [
      "Dimensão das Observações: 2\n"
     ]
    }
   ],
   "source": [
    "D = 2\n",
    "\n",
    "print(f'Dimensão das Observações: {D:,}')"
   ]
  },
  {
   "cell_type": "code",
   "execution_count": 6,
   "metadata": {},
   "outputs": [
    {
     "name": "stdout",
     "output_type": "stream",
     "text": [
      "Número de Categorias Latentes: 5\n"
     ]
    }
   ],
   "source": [
    "K = 5\n",
    "\n",
    "print(f'Número de Categorias Latentes: {K:,}')"
   ]
  },
  {
   "cell_type": "code",
   "execution_count": 7,
   "metadata": {},
   "outputs": [
    {
     "name": "stdout",
     "output_type": "stream",
     "text": [
      "Vetor de Probabilidades:\n",
      "\n",
      "[0.2231 0.1955 0.2253 0.1701 0.1860]\n"
     ]
    }
   ],
   "source": [
    "pi = np.random.dirichlet(alpha = [1e2]*K)\n",
    "\n",
    "print(f'Vetor de Probabilidades:\\n\\n{pi}')"
   ]
  },
  {
   "cell_type": "code",
   "execution_count": 8,
   "metadata": {},
   "outputs": [
    {
     "name": "stdout",
     "output_type": "stream",
     "text": [
      "Vetores de Médias:\n",
      "\n",
      "[[  5.8067  35.9946]\n",
      " [ 15.2850   6.8492]\n",
      " [  8.1903  -2.5680]\n",
      " [ 19.9433  -5.2958]\n",
      " [  3.8919 -13.5871]]\n"
     ]
    }
   ],
   "source": [
    "mu = np.random.normal(scale = np.sqrt(D*1e2), size = (K, D))\n",
    "\n",
    "print(f'Vetores de Médias:\\n\\n{mu}')"
   ]
  },
  {
   "cell_type": "code",
   "execution_count": 9,
   "metadata": {},
   "outputs": [
    {
     "name": "stdout",
     "output_type": "stream",
     "text": [
      "Matrizes de Covariância:\n",
      "\n",
      "[[[ 5.9530  1.3006]\n",
      "  [ 1.3006  1.8563]]\n",
      "\n",
      " [[ 2.4363  0.0738]\n",
      "  [ 0.0738 10.1450]]\n",
      "\n",
      " [[ 3.3613  1.7646]\n",
      "  [ 1.7646  1.4433]]\n",
      "\n",
      " [[ 0.0759 -0.6091]\n",
      "  [-0.6091  7.1479]]\n",
      "\n",
      " [[ 3.8455 -1.5716]\n",
      "  [-1.5716  2.6185]]]\n"
     ]
    }
   ],
   "source": [
    "Sigma = stats.wishart.rvs(df = D, scale = np.diag([1e0]*D)*D, size = K)\n",
    "\n",
    "print(f'Matrizes de Covariância:\\n\\n{Sigma}')"
   ]
  },
  {
   "cell_type": "code",
   "execution_count": 10,
   "metadata": {},
   "outputs": [],
   "source": [
    "Parametros = {\n",
    "\n",
    "    'pi': pi,\n",
    "\n",
    "    'mu': mu,\n",
    "\n",
    "    'Lambda': Sigma\n",
    "\n",
    "}\n",
    "\n",
    "np.save('Modelo\\\\Parametros.npy', Parametros)"
   ]
  },
  {
   "cell_type": "code",
   "execution_count": 11,
   "metadata": {},
   "outputs": [
    {
     "name": "stdout",
     "output_type": "stream",
     "text": [
      "Categorais Latentes:\n",
      "\n",
      "[0 1 2 3 4]\n",
      "\n",
      "Quantidade de Observações por Categoria Latentes:\n",
      "\n",
      "[22442 19430 22585 16890 18653]\n"
     ]
    }
   ],
   "source": [
    "z_n = np.random.choice(a = np.arange(K), p = pi, size = N)\n",
    "\n",
    "C_k, z_k = np.unique(z_n, return_counts = True)\n",
    "\n",
    "z_n = np.hstack([[C_k[k]]*z_k[k] for k in range(K)])\n",
    "\n",
    "print(f'Categorais Latentes:\\n\\n{C_k}\\n')\n",
    "\n",
    "print(f'Quantidade de Observações por Categoria Latentes:\\n\\n{z_k}')"
   ]
  },
  {
   "cell_type": "code",
   "execution_count": 12,
   "metadata": {},
   "outputs": [
    {
     "name": "stdout",
     "output_type": "stream",
     "text": [
      "Vetores Observados:\n",
      "\n",
      "[[  8.7430  35.6238]\n",
      " [  3.9648  36.7746]\n",
      " [  4.3220  35.4478]\n",
      " ...\n",
      " [  0.8230 -11.4464]\n",
      " [  1.1126 -12.6070]\n",
      " [  4.0429 -11.2880]]\n"
     ]
    }
   ],
   "source": [
    "x_n = np.vstack([\n",
    "\n",
    "    np.random.multivariate_normal(\n",
    "\n",
    "        mean = mu[k],\n",
    "\n",
    "        cov = Sigma[k],\n",
    "\n",
    "        size = z_k[k]\n",
    "\n",
    "    ) for k in range(K)\n",
    "\n",
    "])\n",
    "\n",
    "print(f'Vetores Observados:\\n\\n{x_n}')"
   ]
  },
  {
   "cell_type": "code",
   "execution_count": 13,
   "metadata": {},
   "outputs": [],
   "source": [
    "Amostra = pd.DataFrame(x_n, columns = [f'x_{d + 1}' for d in range(D)])\n",
    "\n",
    "Amostra['z'] = z_n\n",
    "\n",
    "Amostra = Amostra.sample(frac = 1).reset_index(drop = True)\n",
    "\n",
    "Amostra.to_csv('Modelo\\\\Amostra.csv', index = False)"
   ]
  },
  {
   "cell_type": "code",
   "execution_count": 18,
   "metadata": {},
   "outputs": [
    {
     "data": {
      "text/plain": [
       "array([[2, 1],\n",
       "       [4, 2]])"
      ]
     },
     "execution_count": 18,
     "metadata": {},
     "output_type": "execute_result"
    }
   ],
   "source": [
    "np.array([1, 2])[:, np.newaxis] @ np.array([2, 1])[:, np.newaxis].T"
   ]
  }
 ],
 "metadata": {
  "kernelspec": {
   "display_name": "Python 3",
   "language": "python",
   "name": "python3"
  },
  "language_info": {
   "codemirror_mode": {
    "name": "ipython",
    "version": 3
   },
   "file_extension": ".py",
   "mimetype": "text/x-python",
   "name": "python",
   "nbconvert_exporter": "python",
   "pygments_lexer": "ipython3",
   "version": "3.12.5"
  }
 },
 "nbformat": 4,
 "nbformat_minor": 2
}
