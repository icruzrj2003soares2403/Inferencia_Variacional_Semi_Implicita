{
 "cells": [
  {
   "cell_type": "code",
   "execution_count": 1,
   "metadata": {},
   "outputs": [
    {
     "name": "stdout",
     "output_type": "stream",
     "text": [
      "WARNING:tensorflow:From c:\\Users\\icruz\\AppData\\Local\\anaconda3\\envs\\MCMC_VMP\\Lib\\site-packages\\tf_keras\\src\\losses.py:2976: The name tf.losses.sparse_softmax_cross_entropy is deprecated. Please use tf.compat.v1.losses.sparse_softmax_cross_entropy instead.\n",
      "\n",
      "WARNING:tensorflow:From c:\\Users\\icruz\\AppData\\Local\\anaconda3\\envs\\MCMC_VMP\\Lib\\site-packages\\tensorflow_probability\\python\\internal\\backend\\numpy\\_utils.py:48: The name tf.logging.TaskLevelStatusMessage is deprecated. Please use tf.compat.v1.logging.TaskLevelStatusMessage instead.\n",
      "\n",
      "WARNING:tensorflow:From c:\\Users\\icruz\\AppData\\Local\\anaconda3\\envs\\MCMC_VMP\\Lib\\site-packages\\tensorflow_probability\\python\\internal\\backend\\numpy\\_utils.py:48: The name tf.control_flow_v2_enabled is deprecated. Please use tf.compat.v1.control_flow_v2_enabled instead.\n",
      "\n"
     ]
    }
   ],
   "source": [
    "import numpy as np\n",
    "import pandas as pd\n",
    "import matplotlib.pyplot as plt\n",
    "import seaborn as sns\n",
    "from MCMC_VMP import MCMC_VMP\n",
    "from PMM import PMM"
   ]
  },
  {
   "cell_type": "code",
   "execution_count": 2,
   "metadata": {},
   "outputs": [],
   "source": [
    "np.random.seed(0)"
   ]
  },
  {
   "cell_type": "code",
   "execution_count": 3,
   "metadata": {},
   "outputs": [
    {
     "name": "stdout",
     "output_type": "stream",
     "text": [
      "Número dos observações: 1000\n",
      "\n",
      "Número das categorias latentes: 5\n"
     ]
    }
   ],
   "source": [
    "N, K = 1000, 5\n",
    "\n",
    "print(f'Número dos observações: {N}\\n')\n",
    "\n",
    "print(f'Número das categorias latentes: {K}')"
   ]
  },
  {
   "cell_type": "code",
   "execution_count": 4,
   "metadata": {},
   "outputs": [
    {
     "name": "stdout",
     "output_type": "stream",
     "text": [
      "Média das categorias latentes:\n",
      "\n",
      "[ 1.   4.5  8.  11.5 15. ]\n"
     ]
    }
   ],
   "source": [
    "mu = np.linspace(start = 1, stop = 3*K, num = K)\n",
    "\n",
    "print(f'Média das categorias latentes:\\n')\n",
    "\n",
    "print(mu)"
   ]
  },
  {
   "cell_type": "code",
   "execution_count": 5,
   "metadata": {},
   "outputs": [
    {
     "name": "stdout",
     "output_type": "stream",
     "text": [
      "Número de observações por categoria: \n",
      "\n",
      "[204 209 197 191 199]\n"
     ]
    }
   ],
   "source": [
    "Z = np.random.multinomial(n = N, pvals = [1/K]*K)\n",
    "\n",
    "print('Número de observações por categoria: \\n')\n",
    "\n",
    "print(Z)"
   ]
  },
  {
   "cell_type": "code",
   "execution_count": 6,
   "metadata": {},
   "outputs": [
    {
     "data": {
      "text/html": [
       "<div>\n",
       "<style scoped>\n",
       "    .dataframe tbody tr th:only-of-type {\n",
       "        vertical-align: middle;\n",
       "    }\n",
       "\n",
       "    .dataframe tbody tr th {\n",
       "        vertical-align: top;\n",
       "    }\n",
       "\n",
       "    .dataframe thead th {\n",
       "        text-align: right;\n",
       "    }\n",
       "</style>\n",
       "<table border=\"1\" class=\"dataframe\">\n",
       "  <thead>\n",
       "    <tr style=\"text-align: right;\">\n",
       "      <th></th>\n",
       "      <th>X</th>\n",
       "      <th>Z</th>\n",
       "    </tr>\n",
       "  </thead>\n",
       "  <tbody>\n",
       "    <tr>\n",
       "      <th>0</th>\n",
       "      <td>2</td>\n",
       "      <td>0</td>\n",
       "    </tr>\n",
       "    <tr>\n",
       "      <th>1</th>\n",
       "      <td>1</td>\n",
       "      <td>0</td>\n",
       "    </tr>\n",
       "    <tr>\n",
       "      <th>2</th>\n",
       "      <td>1</td>\n",
       "      <td>0</td>\n",
       "    </tr>\n",
       "    <tr>\n",
       "      <th>3</th>\n",
       "      <td>0</td>\n",
       "      <td>0</td>\n",
       "    </tr>\n",
       "    <tr>\n",
       "      <th>4</th>\n",
       "      <td>0</td>\n",
       "      <td>0</td>\n",
       "    </tr>\n",
       "  </tbody>\n",
       "</table>\n",
       "</div>"
      ],
      "text/plain": [
       "   X  Z\n",
       "0  2  0\n",
       "1  1  0\n",
       "2  1  0\n",
       "3  0  0\n",
       "4  0  0"
      ]
     },
     "execution_count": 6,
     "metadata": {},
     "output_type": "execute_result"
    }
   ],
   "source": [
    "Dados = {'X': [], 'Z': []}\n",
    "\n",
    "for k in range(K):\n",
    "\n",
    "    Dados['X'] += list(np.random.poisson(lam = mu[k], size = Z[k]))\n",
    "\n",
    "    Dados['Z'] += [k]*Z[k]\n",
    "\n",
    "Dados = pd.DataFrame(Dados)\n",
    "\n",
    "Dados.head()"
   ]
  },
  {
   "cell_type": "code",
   "execution_count": 7,
   "metadata": {},
   "outputs": [
    {
     "data": {
      "image/png": "[encoded data removed]",
      "text/plain": [
       "<Figure size 1500x500 with 1 Axes>"
      ]
     },
     "metadata": {},
     "output_type": "display_data"
    }
   ],
   "source": [
    "plt.figure(figsize = (15, 5))\n",
    "\n",
    "Grafico = sns.histplot(\n",
    "\n",
    "    data = Dados, x = 'X', hue = 'Z', \n",
    "    \n",
    "    stat = 'density', bins = 15, \n",
    "    \n",
    "    palette = 'bright', alpha = 1\n",
    "\n",
    ")\n",
    "\n",
    "Grafico.spines['right'].set_visible(False)\n",
    "\n",
    "Grafico.spines['top'].set_visible(False)\n",
    "\n",
    "plt.xlabel('Observação')\n",
    "\n",
    "plt.ylabel('Densidade')\n",
    "\n",
    "plt.show()"
   ]
  },
  {
   "cell_type": "code",
   "execution_count": 8,
   "metadata": {},
   "outputs": [],
   "source": [
    "Modelo = MCMC_VMP(\n",
    "\n",
    "    Dados = np.array(Dados['X']).reshape((-1, 1)), Categorias = K, \n",
    "    \n",
    "    nu_0 = 1e-6, chi_0 = np.array([0]), \n",
    "    \n",
    "    Distribuicao = PMM(),\n",
    "\n",
    "    Amostra = 10, Descartadas = 20\n",
    "\n",
    ")\n",
    "\n",
    "Modelo.estima_modelo(num = 50)"
   ]
  },
  {
   "cell_type": "code",
   "execution_count": 10,
   "metadata": {},
   "outputs": [
    {
     "name": "stdout",
     "output_type": "stream",
     "text": [
      "[[ 4.32460288]\n",
      " [ 9.21246927]\n",
      " [ 8.00519477]\n",
      " [ 0.95593699]\n",
      " [13.91643546]]\n"
     ]
    }
   ],
   "source": [
    "print(np.exp(Modelo.eta))"
   ]
  }
 ],
 "metadata": {
  "kernelspec": {
   "display_name": "MCMC_VMP",
   "language": "python",
   "name": "python3"
  },
  "language_info": {
   "codemirror_mode": {
    "name": "ipython",
    "version": 3
   },
   "file_extension": ".py",
   "mimetype": "text/x-python",
   "name": "python",
   "nbconvert_exporter": "python",
   "pygments_lexer": "ipython3",
   "version": "3.12.7"
  }
 },
 "nbformat": 4,
 "nbformat_minor": 2
}
