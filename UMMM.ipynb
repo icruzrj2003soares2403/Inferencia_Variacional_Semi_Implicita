{
 "cells": [
  {
   "cell_type": "code",
   "execution_count": 15,
   "metadata": {},
   "outputs": [],
   "source": [
    "import numpy as np\n",
    "import pandas as pd\n",
    "import matplotlib.pyplot as plt\n",
    "import seaborn as sns\n",
    "from MCMC_VMP import MCMC_VMP\n",
    "from UMMM import UMMM"
   ]
  },
  {
   "cell_type": "code",
   "execution_count": 16,
   "metadata": {},
   "outputs": [],
   "source": [
    "np.random.seed(0)"
   ]
  },
  {
   "cell_type": "code",
   "execution_count": 17,
   "metadata": {},
   "outputs": [
    {
     "name": "stdout",
     "output_type": "stream",
     "text": [
      "Número dos observações: 1000\n",
      "\n",
      "Número das categorias latentes: 5\n"
     ]
    }
   ],
   "source": [
    "N, K = 1000, 5\n",
    "\n",
    "print(f'Número dos observações: {N}\\n')\n",
    "\n",
    "print(f'Número das categorias latentes: {K}')"
   ]
  },
  {
   "cell_type": "code",
   "execution_count": null,
   "metadata": {},
   "outputs": [
    {
     "name": "stdout",
     "output_type": "stream",
     "text": [
      "Número de experimentos: 10\n",
      "\n",
      "Probabilidade das categorias latentes:\n",
      "\n",
      "[0.34172383 0.14885535 0.36089549 0.04632187 0.10220345]\n"
     ]
    }
   ],
   "source": [
    "nt = 10\n",
    "\n",
    "pvals = np.random.dirichlet(alpha = [nt/K]*K)\n",
    "\n",
    "print(f'Número de experimentos: {nt}\\n')\n",
    "\n",
    "print(f'Probabilidade das categorias latentes:\\n')\n",
    "\n",
    "print(pvals)"
   ]
  },
  {
   "cell_type": "code",
   "execution_count": 19,
   "metadata": {},
   "outputs": [
    {
     "name": "stdout",
     "output_type": "stream",
     "text": [
      "Número de observações por categoria: \n",
      "\n",
      "[207 158 215 190 230]\n"
     ]
    }
   ],
   "source": [
    "Z = np.random.multinomial(n = N, pvals = [1/K]*K)\n",
    "\n",
    "print('Número de observações por categoria: \\n')\n",
    "\n",
    "print(Z)"
   ]
  },
  {
   "cell_type": "code",
   "execution_count": 20,
   "metadata": {},
   "outputs": [
    {
     "data": {
      "text/html": [
       "<div>\n",
       "<style scoped>\n",
       "    .dataframe tbody tr th:only-of-type {\n",
       "        vertical-align: middle;\n",
       "    }\n",
       "\n",
       "    .dataframe tbody tr th {\n",
       "        vertical-align: top;\n",
       "    }\n",
       "\n",
       "    .dataframe thead th {\n",
       "        text-align: right;\n",
       "    }\n",
       "</style>\n",
       "<table border=\"1\" class=\"dataframe\">\n",
       "  <thead>\n",
       "    <tr style=\"text-align: right;\">\n",
       "      <th></th>\n",
       "      <th>X</th>\n",
       "      <th>Z</th>\n",
       "    </tr>\n",
       "  </thead>\n",
       "  <tbody>\n",
       "    <tr>\n",
       "      <th>0</th>\n",
       "      <td>6</td>\n",
       "      <td>0</td>\n",
       "    </tr>\n",
       "    <tr>\n",
       "      <th>1</th>\n",
       "      <td>3</td>\n",
       "      <td>0</td>\n",
       "    </tr>\n",
       "    <tr>\n",
       "      <th>2</th>\n",
       "      <td>3</td>\n",
       "      <td>0</td>\n",
       "    </tr>\n",
       "    <tr>\n",
       "      <th>3</th>\n",
       "      <td>2</td>\n",
       "      <td>0</td>\n",
       "    </tr>\n",
       "    <tr>\n",
       "      <th>4</th>\n",
       "      <td>5</td>\n",
       "      <td>0</td>\n",
       "    </tr>\n",
       "  </tbody>\n",
       "</table>\n",
       "</div>"
      ],
      "text/plain": [
       "   X  Z\n",
       "0  6  0\n",
       "1  3  0\n",
       "2  3  0\n",
       "3  2  0\n",
       "4  5  0"
      ]
     },
     "execution_count": 20,
     "metadata": {},
     "output_type": "execute_result"
    }
   ],
   "source": [
    "Dados = {'X': [], 'Z': []}\n",
    "\n",
    "for k in range(K):\n",
    "\n",
    "    Dados['X'] += list(np.random.binomial(n = nt, p = pvals[k], size = Z[k]))\n",
    "\n",
    "    Dados['Z'] += [k]*Z[k]\n",
    "\n",
    "Dados = pd.DataFrame(Dados)\n",
    "\n",
    "Dados.head()"
   ]
  },
  {
   "cell_type": "code",
   "execution_count": 23,
   "metadata": {},
   "outputs": [],
   "source": [
    "Modelo = MCMC_VMP(\n",
    "\n",
    "    Dados = np.array(Dados['X']).reshape((-1, 1)), Categorias = K, \n",
    "    \n",
    "    nu_0 = 1e-6, chi_0 = np.array([0]), \n",
    "    \n",
    "    Distribuicao = UMMM(NT = nt),\n",
    "\n",
    "    Amostra = 10, Descartadas = 20\n",
    "\n",
    ")\n",
    "\n",
    "Modelo.estima_modelo(num = 50)"
   ]
  },
  {
   "cell_type": "code",
   "execution_count": 24,
   "metadata": {},
   "outputs": [
    {
     "name": "stdout",
     "output_type": "stream",
     "text": [
      "[[0.24914785]\n",
      " [0.03198936]\n",
      " [0.19776766]\n",
      " [0.43109268]\n",
      " [0.12204382]]\n"
     ]
    }
   ],
   "source": [
    "print(1/(1 + np.exp(-Modelo.eta)))"
   ]
  }
 ],
 "metadata": {
  "kernelspec": {
   "display_name": "MCMC_VMP",
   "language": "python",
   "name": "python3"
  },
  "language_info": {
   "codemirror_mode": {
    "name": "ipython",
    "version": 3
   },
   "file_extension": ".py",
   "mimetype": "text/x-python",
   "name": "python",
   "nbconvert_exporter": "python",
   "pygments_lexer": "ipython3",
   "version": "3.12.7"
  }
 },
 "nbformat": 4,
 "nbformat_minor": 2
}
